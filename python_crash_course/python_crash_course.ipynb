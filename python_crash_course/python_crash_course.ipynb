{
 "cells": [
  {
   "cell_type": "markdown",
   "id": "6ecb718c",
   "metadata": {},
   "source": [
    "# While"
   ]
  },
  {
   "cell_type": "code",
   "execution_count": 6,
   "id": "d2fb7093",
   "metadata": {},
   "outputs": [
    {
     "name": "stdout",
     "output_type": "stream",
     "text": [
      "1\n",
      "2\n",
      "3\n",
      "4\n",
      "5\n",
      "6\n",
      "7\n",
      "8\n",
      "9\n",
      "10\n"
     ]
    }
   ],
   "source": [
    "current = 1\n",
    "end = 10\n",
    "\n",
    "# until end of the condition will continue\n",
    "while current <= end:\n",
    "    print(current)\n",
    "    current +=1 "
   ]
  },
  {
   "cell_type": "code",
   "execution_count": 7,
   "id": "624e6bed",
   "metadata": {},
   "outputs": [
    {
     "name": "stdout",
     "output_type": "stream",
     "text": [
      "When was Python first released?1995\n",
      "No, that's not it. Try again\n",
      "\n",
      "When was Python first released?1999\n",
      "No, that's not it. Try again\n",
      "\n",
      "When was Python first released?1991\n",
      "Congratulations! That is correct.\n"
     ]
    }
   ],
   "source": [
    "released_year = \"1991\"\n",
    "\n",
    "correct = False\n",
    "\n",
    "while not correct:\n",
    "    answer = input(\"When was Python first released?\")\n",
    "    \n",
    "    if answer == released_year:\n",
    "        print('Congratulations! That is correct.')\n",
    "        correct = True\n",
    "    \n",
    "    else:\n",
    "         print('No, that\\'s not it. Try again\\n')\n",
    "\n",
    "        "
   ]
  },
  {
   "cell_type": "markdown",
   "id": "6066fd5d",
   "metadata": {},
   "source": [
    "# LOOP"
   ]
  },
  {
   "cell_type": "code",
   "execution_count": 8,
   "id": "3a2ea3ed",
   "metadata": {},
   "outputs": [
    {
     "data": {
      "text/plain": [
       "[2, 4, 6, 8, 10, 12, 14, 16, 18, 20]"
      ]
     },
     "execution_count": 8,
     "metadata": {},
     "output_type": "execute_result"
    }
   ],
   "source": [
    "# range([start], stop, [step])\n",
    "\n",
    "list(range(2, 21, 2))"
   ]
  },
  {
   "cell_type": "code",
   "execution_count": 10,
   "id": "3608c92a",
   "metadata": {},
   "outputs": [
    {
     "name": "stdout",
     "output_type": "stream",
     "text": [
      "1 * 2 =  2\n",
      "2 * 2 =  4\n",
      "3 * 2 =  6\n"
     ]
    }
   ],
   "source": [
    "# break statement\n",
    "\n",
    "for number in range(1, 11):\n",
    "    if number == 4:\n",
    "        break # just come until 4 after then stopped\n",
    "        \n",
    "    product = number * 2\n",
    "    print(number, '* 2 = ', product)"
   ]
  },
  {
   "cell_type": "code",
   "execution_count": 13,
   "id": "b5197bc5",
   "metadata": {},
   "outputs": [
    {
     "name": "stdout",
     "output_type": "stream",
     "text": [
      "1 * 2 = 2\n",
      "2 * 2 = 4\n",
      "3 * 2 = 6\n",
      "4 * 2 = 8\n",
      "5 * 2 = 10\n",
      "6 * 2 = 12\n",
      "7 * 2 = 14\n",
      "8 * 2 = 16\n",
      "9 * 2 = 18\n",
      "10 * 2 = 20\n"
     ]
    }
   ],
   "source": [
    "# pass statement\n",
    "\n",
    "for number in range(1, 11):\n",
    "    if number == 4:\n",
    "        pass             # not effected result\n",
    "    \n",
    "    product = number * 2\n",
    "    print(number, '* 2 =', product)"
   ]
  },
  {
   "cell_type": "markdown",
   "id": "746b5990",
   "metadata": {},
   "source": [
    "# FUNCTIONS"
   ]
  },
  {
   "cell_type": "code",
   "execution_count": 14,
   "id": "5ccc83bd",
   "metadata": {},
   "outputs": [],
   "source": [
    "# defined inside function body  -> local variables\n",
    "\n",
    "# defined outside function -> global variables"
   ]
  },
  {
   "cell_type": "markdown",
   "id": "27c032a8",
   "metadata": {},
   "source": [
    "## Using Main"
   ]
  },
  {
   "cell_type": "code",
   "execution_count": 16,
   "id": "e37f62ff",
   "metadata": {},
   "outputs": [],
   "source": [
    "# can be decide to either execute or exclude some of the code in a program"
   ]
  },
  {
   "cell_type": "code",
   "execution_count": 17,
   "id": "68b49847",
   "metadata": {},
   "outputs": [],
   "source": [
    "def summation(first, second):\n",
    "    total = first + second\n",
    "    return total"
   ]
  },
  {
   "cell_type": "code",
   "execution_count": 18,
   "id": "332d10a4",
   "metadata": {},
   "outputs": [],
   "source": [
    "def main():\n",
    "    outer_total = summation(10, 20) * 2\n",
    "    print(\"Double the total is \" + str(outer_total))"
   ]
  },
  {
   "cell_type": "code",
   "execution_count": 19,
   "id": "39215a24",
   "metadata": {},
   "outputs": [
    {
     "name": "stdout",
     "output_type": "stream",
     "text": [
      "Double the total is 60\n"
     ]
    }
   ],
   "source": [
    "if __name__ == \"__main__\":\n",
    "    main()"
   ]
  },
  {
   "cell_type": "code",
   "execution_count": 22,
   "id": "5ecb7688",
   "metadata": {},
   "outputs": [
    {
     "data": {
      "text/plain": [
       "36"
      ]
     },
     "execution_count": 22,
     "metadata": {},
     "output_type": "execute_result"
    }
   ],
   "source": [
    "# Variable Number of Arguments\n",
    "\n",
    "def addition(*args): # *numbers -> can be\n",
    "    total = 0\n",
    "    for i in args:\n",
    "        total += i\n",
    "    return total\n",
    "\n",
    "answer = addition(20, 10, 5, 1) # any number of elements can be entered.\n",
    "\n",
    "answer"
   ]
  },
  {
   "cell_type": "markdown",
   "id": "ea73b7ab",
   "metadata": {},
   "source": [
    "# Lambda & Map"
   ]
  },
  {
   "cell_type": "code",
   "execution_count": 34,
   "id": "613b893a",
   "metadata": {},
   "outputs": [],
   "source": [
    "# map(func, iterable)\n",
    "# lambda (argument_list: expression)"
   ]
  },
  {
   "cell_type": "code",
   "execution_count": 35,
   "id": "c81ee1da",
   "metadata": {},
   "outputs": [
    {
     "data": {
      "text/plain": [
       "[4, 25, 64, 144, 289]"
      ]
     },
     "execution_count": 35,
     "metadata": {},
     "output_type": "execute_result"
    }
   ],
   "source": [
    "numbers = [2, 5, 8, 12, 17]\n",
    "\n",
    "squared = list(map(lambda num: num ** 2 , numbers))\n",
    "\n",
    "squared"
   ]
  },
  {
   "cell_type": "markdown",
   "id": "3ce8a7c4",
   "metadata": {},
   "source": [
    "sources code of below: https://python-course.eu/advanced-python/lambda-filter-reduce-map.php"
   ]
  },
  {
   "cell_type": "code",
   "execution_count": 36,
   "id": "c905cccb",
   "metadata": {},
   "outputs": [
    {
     "name": "stdout",
     "output_type": "stream",
     "text": [
      "temp_in_F:  [97.7, 98.60000000000001, 99.5, 100.4, 102.2]\n",
      "temp_in_C:  [36.5, 37.00000000000001, 37.5, 38.00000000000001, 39.0]\n"
     ]
    }
   ],
   "source": [
    "\n",
    "# If dont use lambda neccessary function like below\n",
    "def fahrenheit(T):\n",
    "    return ((9 / 5) * T + 32)\n",
    "\n",
    "def celsius(T):\n",
    "    return (float(5 / 9)) * (T - 32)\n",
    "\n",
    "temp = (36.5, 37, 37.5, 38, 39)\n",
    "\n",
    "F = map(fahrenheit, temp)\n",
    "C = map(celsius, F)\n",
    "\n",
    "temp_in_F = list(map(fahrenheit, temp))\n",
    "temp_in_C = list(map(celsius,temp_in_F))\n",
    "\n",
    "print(\"temp_in_F: \", temp_in_F)\n",
    "print(\"temp_in_C: \", temp_in_C)"
   ]
  },
  {
   "cell_type": "code",
   "execution_count": 37,
   "id": "322c7f48",
   "metadata": {},
   "outputs": [
    {
     "data": {
      "text/plain": [
       "[102.56, 97.7, 99.14, 100.4, 100.03999999999999]"
      ]
     },
     "execution_count": 37,
     "metadata": {},
     "output_type": "execute_result"
    }
   ],
   "source": [
    "# WITH LAMBDA\n",
    "\n",
    "# if using lambda, dont need further function\n",
    "# lambda is use and throw function\n",
    "\n",
    "C = [39.2, 36.5, 37.3, 38, 37.8] \n",
    "F = list(map(lambda x: (float(9)/5)*x + 32, C)) \n",
    "\n",
    "F"
   ]
  },
  {
   "cell_type": "code",
   "execution_count": 38,
   "id": "92337d1c",
   "metadata": {},
   "outputs": [
    {
     "data": {
      "text/plain": [
       "[39.2, 36.5, 37.300000000000004, 38.00000000000001, 37.8]"
      ]
     },
     "execution_count": 38,
     "metadata": {},
     "output_type": "execute_result"
    }
   ],
   "source": [
    "C = list(map(lambda x: (float(5) / 9) * (x - 32), F))\n",
    "\n",
    "C"
   ]
  },
  {
   "cell_type": "markdown",
   "id": "ed1e2b3e",
   "metadata": {},
   "source": [
    "=> map can be use different length of dimensional list"
   ]
  },
  {
   "cell_type": "code",
   "execution_count": 43,
   "id": "ce4470c4",
   "metadata": {},
   "outputs": [],
   "source": [
    "a = [1, 2, 3, 4]\n",
    "b = [17, 12, 11, 10]\n",
    "c = [-1, -4, 5, 9]"
   ]
  },
  {
   "cell_type": "code",
   "execution_count": 47,
   "id": "636fdd1f",
   "metadata": {},
   "outputs": [
    {
     "data": {
      "text/plain": [
       "[-17, -100.0, 165, 360]"
      ]
     },
     "execution_count": 47,
     "metadata": {},
     "output_type": "execute_result"
    }
   ],
   "source": [
    "list(map(lambda x, y, z: x * y * z, a, b, c))"
   ]
  },
  {
   "cell_type": "code",
   "execution_count": 50,
   "id": "eaea0ed5",
   "metadata": {},
   "outputs": [
    {
     "data": {
      "text/plain": [
       "[37.5, 34.0, 24.5, 21.0]"
      ]
     },
     "execution_count": 50,
     "metadata": {},
     "output_type": "execute_result"
    }
   ],
   "source": [
    "list(map(lambda x, y, z: 2.5*x + 2*y - z, a, b, c))"
   ]
  },
  {
   "cell_type": "markdown",
   "id": "0bbb4257",
   "metadata": {},
   "source": [
    "map an iterable of function on the object x"
   ]
  },
  {
   "cell_type": "code",
   "execution_count": 55,
   "id": "0a8a0b15",
   "metadata": {},
   "outputs": [
    {
     "name": "stdout",
     "output_type": "stream",
     "text": [
      "[1.2246467991473532e-16, -1.0, -1.2246467991473532e-16]\n"
     ]
    }
   ],
   "source": [
    "from math import sin, cos, tan, pi\n",
    "\n",
    "def map_functions(x, functions):\n",
    "    return [func(x) for func in functions]\n",
    "\n",
    "print(map_functions(pi, (sin, cos, tan)))"
   ]
  },
  {
   "cell_type": "markdown",
   "id": "5aaebd5d",
   "metadata": {},
   "source": [
    "# FILTERING"
   ]
  },
  {
   "cell_type": "code",
   "execution_count": 61,
   "id": "d789a2d1",
   "metadata": {},
   "outputs": [],
   "source": [
    "# filter(function, sequence)"
   ]
  },
  {
   "cell_type": "code",
   "execution_count": 66,
   "id": "09c14641",
   "metadata": {},
   "outputs": [
    {
     "data": {
      "text/plain": [
       "[1, 1, 3, 5, 13, 21, 55]"
      ]
     },
     "execution_count": 66,
     "metadata": {},
     "output_type": "execute_result"
    }
   ],
   "source": [
    "# using filter for get return true result\n",
    "\n",
    "fib = [0,1,1,2,3,5,8,13,21,34,55]\n",
    "\n",
    "odd_num = list(filter(lambda x: x % 2, fib))\n",
    "\n",
    "odd_num"
   ]
  },
  {
   "cell_type": "code",
   "execution_count": 68,
   "id": "25aca12c",
   "metadata": {},
   "outputs": [
    {
     "data": {
      "text/plain": [
       "[0, 2, 8, 34]"
      ]
     },
     "execution_count": 68,
     "metadata": {},
     "output_type": "execute_result"
    }
   ],
   "source": [
    "even_num = list(filter(lambda x: x % 2 == 0, fib))\n",
    "\n",
    "even_num"
   ]
  },
  {
   "cell_type": "code",
   "execution_count": 70,
   "id": "c8f3dd49",
   "metadata": {},
   "outputs": [
    {
     "data": {
      "text/plain": [
       "[0, 2, 8, 34]"
      ]
     },
     "execution_count": 70,
     "metadata": {},
     "output_type": "execute_result"
    }
   ],
   "source": [
    "even_num = list(filter(lambda x: x % 2 - 1, fib))\n",
    "\n",
    "even_num"
   ]
  },
  {
   "cell_type": "markdown",
   "id": "1aeeaa05",
   "metadata": {},
   "source": [
    "# REDUCE"
   ]
  },
  {
   "cell_type": "code",
   "execution_count": 77,
   "id": "38a35cf4",
   "metadata": {},
   "outputs": [],
   "source": [
    "# reduce(func, seq)\n",
    "# continually applies the function func() to the sequence seq"
   ]
  },
  {
   "cell_type": "markdown",
   "id": "d67535a7",
   "metadata": {},
   "source": [
    "![](https://python-course.eu/images/advanced-python/reduce_300w.webp)"
   ]
  },
  {
   "cell_type": "code",
   "execution_count": 78,
   "id": "ffad9ac8",
   "metadata": {},
   "outputs": [
    {
     "data": {
      "text/plain": [
       "113"
      ]
     },
     "execution_count": 78,
     "metadata": {},
     "output_type": "execute_result"
    }
   ],
   "source": [
    "import functools\n",
    "functools.reduce(lambda x, y : x + y, [47, 11, 42, 13])"
   ]
  },
  {
   "cell_type": "markdown",
   "id": "9ce3b193",
   "metadata": {},
   "source": [
    "![](https://python-course.eu/images/advanced-python/reduce_diagram_350w.webp)"
   ]
  },
  {
   "cell_type": "code",
   "execution_count": 80,
   "id": "66c1cf8c",
   "metadata": {},
   "outputs": [
    {
     "data": {
      "text/plain": [
       "5050"
      ]
     },
     "execution_count": 80,
     "metadata": {},
     "output_type": "execute_result"
    }
   ],
   "source": [
    "from functools import reduce\n",
    "reduce(lambda x, y: x + y, range(1, 101))"
   ]
  },
  {
   "cell_type": "code",
   "execution_count": 83,
   "id": "8865fa1c",
   "metadata": {},
   "outputs": [
    {
     "data": {
      "text/plain": [
       "13983816.0"
      ]
     },
     "execution_count": 83,
     "metadata": {},
     "output_type": "execute_result"
    }
   ],
   "source": [
    "reduce(lambda x, y: x * y, range(44, 50)) / reduce(lambda x, y: x * y, range(1,7))"
   ]
  },
  {
   "cell_type": "markdown",
   "id": "da1dc900",
   "metadata": {},
   "source": [
    "# LIST"
   ]
  },
  {
   "cell_type": "code",
   "execution_count": 84,
   "id": "fbf24805",
   "metadata": {},
   "outputs": [
    {
     "data": {
      "text/plain": [
       "['a', 1, [4, 5, 9], 3.14]"
      ]
     },
     "execution_count": 84,
     "metadata": {},
     "output_type": "execute_result"
    }
   ],
   "source": [
    "# different types values can hold\n",
    "mixed_list = [\"a\", 1, [4,5,9], 3.14]\n",
    "\n",
    "mixed_list"
   ]
  },
  {
   "cell_type": "code",
   "execution_count": 85,
   "id": "480858d2",
   "metadata": {},
   "outputs": [
    {
     "data": {
      "text/plain": [
       "['Julia', 'Diana', 'Mihri']"
      ]
     },
     "execution_count": 85,
     "metadata": {},
     "output_type": "execute_result"
    }
   ],
   "source": [
    "# changing values in a list\n",
    "names = [\"Julia\",\"Diana\",\"Eva\"]\n",
    "\n",
    "# changed with given index\n",
    "names[2] = \"Mihri\"\n",
    "\n",
    "names"
   ]
  },
  {
   "cell_type": "markdown",
   "id": "c4d03f92",
   "metadata": {},
   "source": [
    "### List Methods"
   ]
  },
  {
   "cell_type": "code",
   "execution_count": 93,
   "id": "cd9a32db",
   "metadata": {},
   "outputs": [
    {
     "data": {
      "text/plain": [
       "['first', 'other thing', 'second', 'third']"
      ]
     },
     "execution_count": 93,
     "metadata": {},
     "output_type": "execute_result"
    }
   ],
   "source": [
    "# extend\n",
    "# extends the list by appending all of the items from the iterable to the list\n",
    "\n",
    "x1 = ['first', 'other thing']\n",
    "x2 = ['second', 'third']\n",
    "\n",
    "x1.extend(x2)\n",
    "\n",
    "x1"
   ]
  },
  {
   "cell_type": "code",
   "execution_count": 3,
   "id": "b042288e",
   "metadata": {},
   "outputs": [
    {
     "data": {
      "text/plain": [
       "['Turkey', 'Germany', 'Italy']"
      ]
     },
     "execution_count": 3,
     "metadata": {},
     "output_type": "execute_result"
    }
   ],
   "source": [
    "# insert\n",
    "# list.insert(index, item)\n",
    "# add which index you want\n",
    "\n",
    "x1 = [\"Germany\",\"Italy\"]\n",
    "\n",
    "x1.insert(0,\"Turkey\")\n",
    "\n",
    "x1"
   ]
  },
  {
   "cell_type": "code",
   "execution_count": 5,
   "id": "0b53e4c6",
   "metadata": {},
   "outputs": [
    {
     "data": {
      "text/plain": [
       "['Germany', 'Italy']"
      ]
     },
     "execution_count": 5,
     "metadata": {},
     "output_type": "execute_result"
    }
   ],
   "source": [
    "# list remove\n",
    "# whose value matches the argument item that's passed in\n",
    "\n",
    "x1 = [\"Germany\",\"Italy\",\"Turkey\"]\n",
    "\n",
    "x1.remove(\"Turkey\")\n",
    "\n",
    "x1"
   ]
  },
  {
   "cell_type": "code",
   "execution_count": 10,
   "id": "6c733961",
   "metadata": {},
   "outputs": [
    {
     "data": {
      "text/plain": [
       "['first', 'second']"
      ]
     },
     "execution_count": 10,
     "metadata": {},
     "output_type": "execute_result"
    }
   ],
   "source": [
    "# list pop\n",
    "# will remove the last item in the list\n",
    "\n",
    "x1 = [\"first\",\"second\",\"last\"]\n",
    "\n",
    "x1.pop()\n",
    "\n",
    "x1"
   ]
  },
  {
   "cell_type": "code",
   "execution_count": 11,
   "id": "b1aca3ac",
   "metadata": {},
   "outputs": [
    {
     "data": {
      "text/plain": [
       "['second', 'last']"
      ]
     },
     "execution_count": 11,
     "metadata": {},
     "output_type": "execute_result"
    }
   ],
   "source": [
    "# if enter a index inside pop\n",
    "\n",
    "x1 = [\"first\",\"second\",\"last\"]\n",
    "\n",
    "x1.pop(0)\n",
    "\n",
    "x1"
   ]
  },
  {
   "cell_type": "code",
   "execution_count": 12,
   "id": "71b7ccb4",
   "metadata": {},
   "outputs": [
    {
     "data": {
      "text/plain": [
       "[]"
      ]
     },
     "execution_count": 12,
     "metadata": {},
     "output_type": "execute_result"
    }
   ],
   "source": [
    "# list.clear()\n",
    "# removes all items from a list\n",
    "# alternative can be del a[:]\n",
    "\n",
    "x = [1,2,5,6,25,51,45]\n",
    "\n",
    "x.clear()\n",
    "\n",
    "x"
   ]
  },
  {
   "cell_type": "code",
   "execution_count": 14,
   "id": "652f1388",
   "metadata": {},
   "outputs": [
    {
     "data": {
      "text/plain": [
       "1"
      ]
     },
     "execution_count": 14,
     "metadata": {},
     "output_type": "execute_result"
    }
   ],
   "source": [
    "# list.index(item [, start [, end]])\n",
    "\n",
    "x = [\"sunday\",\"monday\",\"friday\",\"wednesday\"]\n",
    "\n",
    "x.index(\"monday\") # give index"
   ]
  },
  {
   "cell_type": "code",
   "execution_count": 17,
   "id": "8585fe44",
   "metadata": {},
   "outputs": [],
   "source": [
    "# x.index('monday', 0, 1) # which range will look at we'll give \n",
    "\n",
    "# output: ValueError: 'monday' is not in list"
   ]
  },
  {
   "cell_type": "code",
   "execution_count": 19,
   "id": "75a01f18",
   "metadata": {},
   "outputs": [
    {
     "data": {
      "text/plain": [
       "3"
      ]
     },
     "execution_count": 19,
     "metadata": {},
     "output_type": "execute_result"
    }
   ],
   "source": [
    "x.index('wednesday', 2)"
   ]
  },
  {
   "cell_type": "code",
   "execution_count": 25,
   "id": "d0159ddd",
   "metadata": {},
   "outputs": [
    {
     "data": {
      "text/plain": [
       "3"
      ]
     },
     "execution_count": 25,
     "metadata": {},
     "output_type": "execute_result"
    }
   ],
   "source": [
    "# list.count(item)\n",
    "\n",
    "x = [1,1,2,5,41,25,56,85,5,58,95,8,5]\n",
    "\n",
    "x.count(5)"
   ]
  },
  {
   "cell_type": "code",
   "execution_count": 26,
   "id": "54041354",
   "metadata": {},
   "outputs": [
    {
     "data": {
      "text/plain": [
       "[1, 1, 2, 5, 5, 5, 8, 25, 41, 56, 58, 85, 95]"
      ]
     },
     "execution_count": 26,
     "metadata": {},
     "output_type": "execute_result"
    }
   ],
   "source": [
    "x.sort()\n",
    "\n",
    "x"
   ]
  },
  {
   "cell_type": "code",
   "execution_count": 27,
   "id": "9830d4b1",
   "metadata": {},
   "outputs": [
    {
     "data": {
      "text/plain": [
       "[95, 85, 58, 56, 41, 25, 8, 5, 5, 5, 2, 1, 1]"
      ]
     },
     "execution_count": 27,
     "metadata": {},
     "output_type": "execute_result"
    }
   ],
   "source": [
    "x.reverse()\n",
    "\n",
    "x"
   ]
  },
  {
   "cell_type": "code",
   "execution_count": 29,
   "id": "27e2d1b1",
   "metadata": {},
   "outputs": [
    {
     "data": {
      "text/plain": [
       "[95, 85, 58, 56, 41, 25, 8, 5, 5, 5, 2, 1, 1]"
      ]
     },
     "execution_count": 29,
     "metadata": {},
     "output_type": "execute_result"
    }
   ],
   "source": [
    "# returns a shallow copy of a lit\n",
    "# if we changed something in x, not change in y this meaning  -> shallow copy\n",
    "\n",
    "y =x.copy()\n",
    "\n",
    "y"
   ]
  },
  {
   "cell_type": "code",
   "execution_count": 35,
   "id": "7d8b9106",
   "metadata": {},
   "outputs": [
    {
     "name": "stdout",
     "output_type": "stream",
     "text": [
      "[555, 85, 58, 56, 41, 25, 8, 5, 5, 5, 2, 1, 1]\n",
      "[95, 85, 58, 56, 41, 25, 8, 5, 5, 5, 2, 1, 1]\n"
     ]
    }
   ],
   "source": [
    "x[0] = 555\n",
    "\n",
    "print(x)\n",
    "\n",
    "print(y)\n",
    "\n",
    "# just added x inside\n",
    "# y not affected"
   ]
  },
  {
   "cell_type": "markdown",
   "id": "e23365ff",
   "metadata": {},
   "source": [
    "# TUPLE"
   ]
  },
  {
   "cell_type": "markdown",
   "id": "72445790",
   "metadata": {},
   "source": [
    " - suited for use with different data types\n",
    " - immutable\n",
    " - faster than list"
   ]
  },
  {
   "cell_type": "code",
   "execution_count": 37,
   "id": "ac3a8aa9",
   "metadata": {},
   "outputs": [
    {
     "data": {
      "text/plain": [
       "('dog', 'cat', 'parrot')"
      ]
     },
     "execution_count": 37,
     "metadata": {},
     "output_type": "execute_result"
    }
   ],
   "source": [
    "pets = ('dog','cat','parrot')\n",
    "\n",
    "pets"
   ]
  },
  {
   "cell_type": "code",
   "execution_count": 40,
   "id": "a1fbbd76",
   "metadata": {},
   "outputs": [
    {
     "data": {
      "text/plain": [
       "True"
      ]
     },
     "execution_count": 40,
     "metadata": {},
     "output_type": "execute_result"
    }
   ],
   "source": [
    "# any: discover whether any element of a tuple is an iterable\n",
    "\n",
    "any(pets)"
   ]
  },
  {
   "cell_type": "markdown",
   "id": "184b0f85",
   "metadata": {},
   "source": [
    "# DICTIONARY "
   ]
  },
  {
   "cell_type": "code",
   "execution_count": 49,
   "id": "6a61a10e",
   "metadata": {},
   "outputs": [
    {
     "data": {
      "text/plain": [
       "{'pen': 'kalem', 'pc': 'bilgisayar', 'bird': 'kuş'}"
      ]
     },
     "execution_count": 49,
     "metadata": {},
     "output_type": "execute_result"
    }
   ],
   "source": [
    "words = {\"pen\":\"kalem\",\n",
    "        \"pc\":\"bilgisayar\",\n",
    "        \"bird\":\"kuş\"}\n",
    "\n",
    "words"
   ]
  },
  {
   "cell_type": "code",
   "execution_count": 50,
   "id": "86708ce5",
   "metadata": {},
   "outputs": [
    {
     "data": {
      "text/plain": [
       "{'pen': 'kalem', 'pc': 'bilgisayar', 'bird': 'kuş', 'candy': 'şeker'}"
      ]
     },
     "execution_count": 50,
     "metadata": {},
     "output_type": "execute_result"
    }
   ],
   "source": [
    "# add a new key and value\n",
    "\n",
    "words[\"candy\"] = \"şeker\"\n",
    "\n",
    "words"
   ]
  },
  {
   "cell_type": "code",
   "execution_count": 51,
   "id": "fcf987ae",
   "metadata": {},
   "outputs": [
    {
     "data": {
      "text/plain": [
       "'kalem'"
      ]
     },
     "execution_count": 51,
     "metadata": {},
     "output_type": "execute_result"
    }
   ],
   "source": [
    "# reading data\n",
    "\n",
    "words[\"pen\"]"
   ]
  },
  {
   "cell_type": "code",
   "execution_count": 55,
   "id": "64f0e141",
   "metadata": {},
   "outputs": [
    {
     "name": "stdout",
     "output_type": "stream",
     "text": [
      "None\n"
     ]
    }
   ],
   "source": [
    "# if the value not exist in dict \n",
    "# -> when using get, result will be -> None\n",
    "\n",
    "\n",
    "print(words.get(\"this\"))"
   ]
  },
  {
   "cell_type": "code",
   "execution_count": 57,
   "id": "c0039d4e",
   "metadata": {},
   "outputs": [],
   "source": [
    "# if using words[\"this\"]\n",
    "# output: KeyError: 'this'"
   ]
  },
  {
   "cell_type": "code",
   "execution_count": 10,
   "id": "cd029103",
   "metadata": {},
   "outputs": [
    {
     "data": {
      "text/plain": [
       "'John'"
      ]
     },
     "execution_count": 10,
     "metadata": {},
     "output_type": "execute_result"
    }
   ],
   "source": [
    "# dict.setdefult()\n",
    "\n",
    "a = {\"name\":\"John\",\"age\":\"24\",\"sex\":\"male\"}\n",
    "\n",
    "b = a.setdefault(\"name\")\n",
    "\n",
    "b"
   ]
  },
  {
   "cell_type": "code",
   "execution_count": 9,
   "id": "855db3d2",
   "metadata": {},
   "outputs": [
    {
     "data": {
      "text/plain": [
       "'Earth'"
      ]
     },
     "execution_count": 9,
     "metadata": {},
     "output_type": "execute_result"
    }
   ],
   "source": [
    "c = a.setdefault(\"planet\",\"Earth\")\n",
    "c"
   ]
  },
  {
   "cell_type": "code",
   "execution_count": 13,
   "id": "1259b0f6",
   "metadata": {},
   "outputs": [
    {
     "data": {
      "text/plain": [
       "{'name': 'Nothing here yet', 'age': 'Nothing here yet'}"
      ]
     },
     "execution_count": 13,
     "metadata": {},
     "output_type": "execute_result"
    }
   ],
   "source": [
    "d = a.fromkeys([\"name\",\"age\"], \"Nothing here yet\")\n",
    "d"
   ]
  },
  {
   "cell_type": "code",
   "execution_count": 15,
   "id": "4f7142e3",
   "metadata": {},
   "outputs": [
    {
     "data": {
      "text/plain": [
       "1"
      ]
     },
     "execution_count": 15,
     "metadata": {},
     "output_type": "execute_result"
    }
   ],
   "source": [
    "# pop\n",
    "a = {1, 2, 3, 4}\n",
    "a.pop() # delete first index and show output"
   ]
  },
  {
   "cell_type": "code",
   "execution_count": 17,
   "id": "febd640f",
   "metadata": {},
   "outputs": [
    {
     "data": {
      "text/plain": [
       "{1, 3}"
      ]
     },
     "execution_count": 17,
     "metadata": {},
     "output_type": "execute_result"
    }
   ],
   "source": [
    "# discard\n",
    "a = {1, 2, 3}\n",
    "a.discard(2)\n",
    "a"
   ]
  },
  {
   "cell_type": "code",
   "execution_count": 19,
   "id": "db8b71fe",
   "metadata": {},
   "outputs": [
    {
     "data": {
      "text/plain": [
       "{1, 3}"
      ]
     },
     "execution_count": 19,
     "metadata": {},
     "output_type": "execute_result"
    }
   ],
   "source": [
    "# if not available inside side not give error\n",
    "a.discard(24) \n",
    "a"
   ]
  },
  {
   "cell_type": "code",
   "execution_count": null,
   "id": "b6a6ad87",
   "metadata": {},
   "outputs": [],
   "source": [
    "# Frozen Sets\n",
    "# immutable\n",
    "# not support adding or removing items"
   ]
  }
 ],
 "metadata": {
  "kernelspec": {
   "display_name": "Python 3",
   "language": "python",
   "name": "python3"
  },
  "language_info": {
   "codemirror_mode": {
    "name": "ipython",
    "version": 3
   },
   "file_extension": ".py",
   "mimetype": "text/x-python",
   "name": "python",
   "nbconvert_exporter": "python",
   "pygments_lexer": "ipython3",
   "version": "3.8.8"
  }
 },
 "nbformat": 4,
 "nbformat_minor": 5
}
